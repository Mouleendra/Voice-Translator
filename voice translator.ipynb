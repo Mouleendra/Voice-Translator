{
 "cells": [
  {
   "cell_type": "code",
   "execution_count": 1,
   "metadata": {},
   "outputs": [],
   "source": [
    "import googletrans\n",
    "#print(googletrans.LANGUAGES)\n",
    "import speech_recognition\n",
    "import gtts\n",
    "import playsound\n",
    "import pyttsx3"
   ]
  },
  {
   "cell_type": "markdown",
   "metadata": {},
   "source": [
    "The below are the language codes"
   ]
  },
  {
   "cell_type": "code",
   "execution_count": 2,
   "metadata": {},
   "outputs": [],
   "source": [
    "d={'af': 'afrikaans', 'sq': 'albanian', 'am': 'amharic', 'ar': 'arabic', 'hy': 'armenian', 'az': 'azerbaijani', 'eu': 'basque', 'be': 'belarusian', 'bn': 'bengali',\n",
    "   'bs': 'bosnian', 'bg': 'bulgarian', 'ca': 'catalan', 'ceb': 'cebuano', 'ny': 'chichewa', 'zh-cn': 'chinese (simplified)', 'zh-tw': 'chinese (traditional)',\n",
    "   'co': 'corsican', 'hr': 'croatian', 'cs': 'czech', 'da': 'danish', 'nl': 'dutch', 'en': 'english', 'eo': 'esperanto', 'et': 'estonian', 'tl': 'filipino', 'fi': 'finnish',\n",
    "   'fr': 'french', 'fy': 'frisian', 'gl': 'galician', 'ka': 'georgian', 'de': 'german', 'el': 'greek', 'gu': 'gujarati', 'ht': 'haitian creole', 'ha': 'hausa', 'haw': 'hawaiian',\n",
    "   'iw': 'hebrew', 'he': 'hebrew', 'hi': 'hindi', 'hmn': 'hmong', 'hu': 'hungarian', 'is': 'icelandic', 'ig': 'igbo', 'id': 'indonesian', 'ga': 'irish', 'it': 'italian',\n",
    "   'ja': 'japanese', 'jw': 'javanese', 'kn': 'kannada', 'kk': 'kazakh', 'km': 'khmer', 'ko': 'korean', 'ku': 'kurdish (kurmanji)', 'ky': 'kyrgyz', 'lo': 'lao', 'la': 'latin',\n",
    "   'lv': 'latvian', 'lt': 'lithuanian', 'lb': 'luxembourgish', 'mk': 'macedonian', 'mg': 'malagasy', 'ms': 'malay', 'ml': 'malayalam', 'mt': 'maltese',   'mi': 'maori', \n",
    "   'mr': 'marathi', 'mn': 'mongolian', 'my': 'myanmar (burmese)', 'ne': 'nepali', 'no': 'norwegian', 'or': 'odia', 'ps': 'pashto', 'fa': 'persian', 'pl': 'polish', \n",
    "   'pt': 'portuguese', 'pa': 'punjabi', 'ro': 'romanian', 'ru': 'russian', 'sm': 'samoan', 'gd': 'scots gaelic', 'sr': 'serbian', 'st': 'sesotho', 'sn': 'shona', \n",
    "   'sd': 'sindhi', 'si': 'sinhala', 'sk': 'slovak', 'sl': 'slovenian', 'so': 'somali', 'es': 'spanish', 'su': 'sundanese', 'sw': 'swahili', 'sv': 'swedish', \n",
    "   'tg': 'tajik', 'ta': 'tamil', 'te': 'telugu', 'th': 'thai', 'tr': 'turkish', 'uk': 'ukrainian', 'ur': 'urdu', 'ug': 'uyghur', 'uz': 'uzbek', 'vi': 'vietnamese',\n",
    "   'cy': 'welsh', 'xh': 'xhosa', 'yi': 'yiddish', 'yo': 'yoruba', 'zu': 'zulu'}"
   ]
  },
  {
   "cell_type": "markdown",
   "metadata": {},
   "source": [
    "| Language          | Language Code | \n",
    "|-------------------|---------------| \n",
    "| English           |  en           | \n",
    "| Spanish           |  es           | \n",
    "| French            |  fr           | \n",
    "| German            |  de           | \n",
    "| Italian           |  it           | \n",
    "| Portuguese        |  pt           | \n",
    "| Russian           |  ru           | \n",
    "| Chinese (Simplified) |  zh-CN     | \n",
    "| Chinese (Traditional) |  zh-TW    | \n",
    "| Japanese          |  ja           | \n",
    "| Korean            |  ko           | \n",
    "| Arabic            |  ar           | \n",
    "| Hindi             |  hi           | \n",
    "| Turkish           |  tr           | \n",
    "| Dutch             |  nl           | \n",
    "| Swedish           |  sv           | \n",
    "| Danish            |  da           | \n",
    "| Norwegian         |  no           | \n",
    "| Finnish           |  fi           | \n",
    "| Thai              |  th           | \n",
    "| Vietnamese        |  vi           | \n",
    "| Hebrew            |  he           | \n",
    "| Indonesian        |  id           | \n",
    "| Filipino          |  tl           | \n",
    "| Malay             |  ms           | \n"
   ]
  },
  {
   "cell_type": "code",
   "execution_count": null,
   "metadata": {},
   "outputs": [],
   "source": [
    "recognizer = speech_recognition.Recognizer()\n",
    "with speech_recognition.Microphone() as source:\n",
    "    input_lang = input(('The code to which language you would like to speak in...'))\n",
    "    voice = recognizer.listen(source)\n",
    "    text = recognizer.recognize_google(voice,language = input_lang)\n",
    "    print(text)"
   ]
  },
  {
   "cell_type": "code",
   "execution_count": null,
   "metadata": {},
   "outputs": [],
   "source": [
    "translator = googletrans.Translator()\n",
    "output_lang = input('The language code to which you want to transalte to...')\n",
    "translation = translator.translate(text,dest = output_lang)\n",
    "print(translation.text)"
   ]
  },
  {
   "cell_type": "code",
   "execution_count": 6,
   "metadata": {},
   "outputs": [],
   "source": [
    "# converted_audio = gtts.gTTS(translation.text, lang = output_lang)\n",
    "# converted_audio.save(\"hello1.mp3\")\n",
    "# playsound.playsound(\"hello1.mp3\")\n",
    "engine = pyttsx3.init()\n",
    "engine.say(translation.text)\n",
    "engine.runAndWait()"
   ]
  }
 ],
 "metadata": {
  "kernelspec": {
   "display_name": "Python 3",
   "language": "python",
   "name": "python3"
  },
  "language_info": {
   "codemirror_mode": {
    "name": "ipython",
    "version": 3
   },
   "file_extension": ".py",
   "mimetype": "text/x-python",
   "name": "python",
   "nbconvert_exporter": "python",
   "pygments_lexer": "ipython3",
   "version": "3.12.3"
  }
 },
 "nbformat": 4,
 "nbformat_minor": 2
}
